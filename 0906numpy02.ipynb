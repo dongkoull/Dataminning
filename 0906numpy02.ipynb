{
 "cells": [
  {
   "cell_type": "code",
   "execution_count": 1,
   "metadata": {},
   "outputs": [],
   "source": [
    "import numpy as np\n",
    "import matplotlib.pyplot as plt"
   ]
  },
  {
   "cell_type": "code",
   "execution_count": 2,
   "metadata": {},
   "outputs": [],
   "source": [
    "a= np.array([[1,2,3],[4,5,6]])\n",
    "b= np.ones_like(a)"
   ]
  },
  {
   "cell_type": "code",
   "execution_count": 3,
   "metadata": {},
   "outputs": [
    {
     "name": "stdout",
     "output_type": "stream",
     "text": [
      "[[1 2 3]\n",
      " [4 5 6]]\n",
      "[[1 1 1]\n",
      " [1 1 1]]\n"
     ]
    }
   ],
   "source": [
    "print(a)\n",
    "print(b)"
   ]
  },
  {
   "cell_type": "markdown",
   "metadata": {},
   "source": [
    "데이터 생성 함수\n",
    "지정한 범위또는 0~1 범위 내에서 균등 간격으로 n개의 수를 생성"
   ]
  },
  {
   "cell_type": "code",
   "execution_count": 4,
   "metadata": {},
   "outputs": [
    {
     "data": {
      "image/png": "[encoded data removed]",
      "text/plain": [
       "<Figure size 432x288 with 1 Axes>"
      ]
     },
     "metadata": {},
     "output_type": "display_data"
    }
   ],
   "source": [
    "a = np.linspace(0,100)\n",
    "a = np.linspace(0,5,5)\n",
    "plt.plot(a,'o')\n",
    "plt.show()"
   ]
  },
  {
   "cell_type": "code",
   "execution_count": 5,
   "metadata": {},
   "outputs": [
    {
     "name": "stdout",
     "output_type": "stream",
     "text": [
      "[ 0.  2.  4.  6.  8. 10. 12. 14. 16. 18.]\n",
      "<class 'numpy.ndarray'>\n"
     ]
    },
    {
     "data": {
      "image/png": "[encoded data removed]",
      "text/plain": [
       "<Figure size 432x288 with 1 Axes>"
      ]
     },
     "metadata": {},
     "output_type": "display_data"
    }
   ],
   "source": [
    "a= np.arange(0,20,2,np.float)\n",
    "print(a)\n",
    "print(type(a))\n",
    "plt.plot(a,'o')\n",
    "plt.show()"
   ]
  },
  {
   "cell_type": "markdown",
   "metadata": {},
   "source": [
    "난수 관련 np.random"
   ]
  },
  {
   "cell_type": "code",
   "execution_count": null,
   "metadata": {},
   "outputs": [],
   "source": []
  },
  {
   "cell_type": "code",
   "execution_count": 8,
   "metadata": {},
   "outputs": [
    {
     "data": {
      "image/png": "[encoded data removed]",
      "text/plain": [
       "<Figure size 432x288 with 1 Axes>"
      ]
     },
     "metadata": {},
     "output_type": "display_data"
    }
   ],
   "source": [
    "a= np.random.rand(100000)\n",
    "# print(a)\n",
    "plt.hist(a,bins=1000) #bins = 구간의 수\n",
    "plt.show()"
   ]
  },
  {
   "cell_type": "code",
   "execution_count": 10,
   "metadata": {},
   "outputs": [
    {
     "name": "stdout",
     "output_type": "stream",
     "text": [
      "[  5  24  11   2  12 -79 -94  71  65  18 -95  23 -93  15  46  -2  41  19\n",
      " -94  31 -32   3  96  68 -66  72  51 -40 -29  75 -63  42  20  93 -75  90\n",
      " -66  71  74  87  96  79  21  84 -48  51  22 -14  10 -20 -90  35  67  35\n",
      " -49 -45 -10  35  74  59  29 -12 -33 -54  98 -68 -47  58 -22  17 -95 -98\n",
      " -32 -22 -81  11  -4  93  -1 -11 -48 -67 -74  91 -12 -19 -71  71  23  96\n",
      "  -9   6 -31  61 -66  91  -9 -54  -5  64]\n"
     ]
    },
    {
     "data": {
      "image/png": "[encoded data removed]",
      "text/plain": [
       "<Figure size 432x288 with 1 Axes>"
      ]
     },
     "metadata": {},
     "output_type": "display_data"
    }
   ],
   "source": [
    "a= np.random.randint(-100,100,size=100)# 난수가 균등하게\n",
    "print(a)\n",
    "plt.hist(a,bins=10)\n",
    "plt.show()"
   ]
  },
  {
   "cell_type": "code",
   "execution_count": 12,
   "metadata": {},
   "outputs": [
    {
     "name": "stdout",
     "output_type": "stream",
     "text": [
      "[[6 1 9]\n",
      " [7 6 7]]\n",
      "[[7 7 6]\n",
      " [6 5 3]]\n",
      "\n",
      "[[6 1 9]\n",
      " [7 6 7]]\n",
      "\n",
      "['arr_0', 'arr_1']\n",
      "\n",
      "[[6 1 9]\n",
      " [7 6 7]]\n",
      "\n",
      "[[7 7 6]\n",
      " [6 5 3]]\n",
      "\n",
      "<numpy.lib.npyio.NpzFile object at 0x00000235CFB96C50>\n"
     ]
    }
   ],
   "source": [
    "a= np.random.randint(0,10,(2,3))\n",
    "print(a)\n",
    "b=np.random.randint(0,10,(2,3))\n",
    "print(b)\n",
    "np.save('marr1',a)\n",
    "np.savez('marr2',a,b) #npz로 저장.\n",
    "print()\n",
    "print(np.load('marr1.npy'))\n",
    "npzfiles=np.load('marr2.npz')\n",
    "print()\n",
    "print(npzfiles.files)\n",
    "print()\n",
    "print(npzfiles['arr_0'])\n",
    "print()\n",
    "print(npzfiles['arr_1'])\n",
    "print()\n",
    "print(np.load('marr2.npz'))"
   ]
  },
  {
   "cell_type": "code",
   "execution_count": null,
   "metadata": {},
   "outputs": [],
   "source": [
    "##----------------------------------------09/19"
   ]
  },
  {
   "cell_type": "code",
   "execution_count": 15,
   "metadata": {},
   "outputs": [
    {
     "name": "stdout",
     "output_type": "stream",
     "text": [
      "[[1 2 3]\n",
      " [4 5 6]]\n"
     ]
    }
   ],
   "source": [
    "print(np.loadtxt('simple.csv',dtype= np.int))"
   ]
  },
  {
   "cell_type": "code",
   "execution_count": 18,
   "metadata": {},
   "outputs": [
    {
     "name": "stdout",
     "output_type": "stream",
     "text": [
      "[(1, b'MJI', 180) (2, b'LMD', 175) (3, b'KDJ', 170)]\n"
     ]
    }
   ],
   "source": [
    "# #????\n",
    "data = np.loadtxt('hight.csv',delimiter=',',skiprows=1,dtype={\n",
    "    'names' : ('order','name','height(cm)'),'formats' : ('i','S20','i')})\n",
    "print(data)"
   ]
  },
  {
   "cell_type": "code",
   "execution_count": null,
   "metadata": {},
   "outputs": [],
   "source": []
  },
  {
   "cell_type": "code",
   "execution_count": null,
   "metadata": {},
   "outputs": [],
   "source": []
  },
  {
   "cell_type": "code",
   "execution_count": null,
   "metadata": {},
   "outputs": [],
   "source": []
  },
  {
   "cell_type": "code",
   "execution_count": null,
   "metadata": {},
   "outputs": [],
   "source": []
  },
  {
   "cell_type": "code",
   "execution_count": null,
   "metadata": {},
   "outputs": [],
   "source": []
  },
  {
   "cell_type": "code",
   "execution_count": null,
   "metadata": {},
   "outputs": [],
   "source": []
  },
  {
   "cell_type": "code",
   "execution_count": null,
   "metadata": {},
   "outputs": [],
   "source": []
  },
  {
   "cell_type": "code",
   "execution_count": null,
   "metadata": {},
   "outputs": [],
   "source": []
  },
  {
   "cell_type": "code",
   "execution_count": null,
   "metadata": {},
   "outputs": [],
   "source": []
  }
 ],
 "metadata": {
  "kernelspec": {
   "display_name": "Python 3",
   "language": "python",
   "name": "python3"
  },
  "language_info": {
   "codemirror_mode": {
    "name": "ipython",
    "version": 3
   },
   "file_extension": ".py",
   "mimetype": "text/x-python",
   "name": "python",
   "nbconvert_exporter": "python",
   "pygments_lexer": "ipython3",
   "version": "3.6.5"
  }
 },
 "nbformat": 4,
 "nbformat_minor": 2
}
