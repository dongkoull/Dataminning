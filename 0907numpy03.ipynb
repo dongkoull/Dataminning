{
 "cells": [
  {
   "cell_type": "code",
   "execution_count": 2,
   "metadata": {},
   "outputs": [],
   "source": [
    "import numpy as np"
   ]
  },
  {
   "cell_type": "code",
   "execution_count": 3,
   "metadata": {},
   "outputs": [],
   "source": [
    "data=[[828.659973,833.450012,828.349976,1247700,831.659973],\n",
    "[823.02002,828.070007,821.655029,1597800,828.070007],\n",
    "[819.929993,824.400024,818.97998,1281700,824.159973],\n",
    "[819.359985,823,818.469971,1304000,818.97998],\n",
    "[819,823,816,1053600,820.450012],\n",
    "[816,820.958984,815.48999,1198100,819.23999],\n",
    "[811.700012,815.25,809.780029,1129100,813.669983],\n",
    "[809.51001,810.659973,804.539978,989700,809.559998]]"
   ]
  },
  {
   "cell_type": "code",
   "execution_count": 13,
   "metadata": {},
   "outputs": [
    {
     "name": "stdout",
     "output_type": "stream",
     "text": [
      "[[8.28659973e+02 8.33450012e+02 8.28349976e+02 1.24770000e+06\n",
      "  8.31659973e+02]\n",
      " [8.23020020e+02 8.28070007e+02 8.21655029e+02 1.59780000e+06\n",
      "  8.28070007e+02]\n",
      " [8.19929993e+02 8.24400024e+02 8.18979980e+02 1.28170000e+06\n",
      "  8.24159973e+02]\n",
      " [8.19359985e+02 8.23000000e+02 8.18469971e+02 1.30400000e+06\n",
      "  8.18979980e+02]\n",
      " [8.19000000e+02 8.23000000e+02 8.16000000e+02 1.05360000e+06\n",
      "  8.20450012e+02]\n",
      " [8.16000000e+02 8.20958984e+02 8.15489990e+02 1.19810000e+06\n",
      "  8.19239990e+02]\n",
      " [8.11700012e+02 8.15250000e+02 8.09780029e+02 1.12910000e+06\n",
      "  8.13669983e+02]\n",
      " [8.09510010e+02 8.10659973e+02 8.04539978e+02 9.89700000e+05\n",
      "  8.09559998e+02]]\n"
     ]
    }
   ],
   "source": [
    "data=np.array(data)\n",
    "print(data)"
   ]
  },
  {
   "cell_type": "markdown",
   "metadata": {},
   "source": [
    " "
   ]
  },
  {
   "cell_type": "markdown",
   "metadata": {},
   "source": [
    "행과 열 전환"
   ]
  },
  {
   "cell_type": "code",
   "execution_count": 9,
   "metadata": {},
   "outputs": [
    {
     "name": "stdout",
     "output_type": "stream",
     "text": [
      "[[8.28659973e+02 8.23020020e+02 8.19929993e+02 8.19359985e+02\n",
      "  8.19000000e+02 8.16000000e+02 8.11700012e+02 8.09510010e+02]\n",
      " [8.33450012e+02 8.28070007e+02 8.24400024e+02 8.23000000e+02\n",
      "  8.23000000e+02 8.20958984e+02 8.15250000e+02 8.10659973e+02]\n",
      " [8.28349976e+02 8.21655029e+02 8.18979980e+02 8.18469971e+02\n",
      "  8.16000000e+02 8.15489990e+02 8.09780029e+02 8.04539978e+02]\n",
      " [1.24770000e+06 1.59780000e+06 1.28170000e+06 1.30400000e+06\n",
      "  1.05360000e+06 1.19810000e+06 1.12910000e+06 9.89700000e+05]\n",
      " [8.31659973e+02 8.28070007e+02 8.24159973e+02 8.18979980e+02\n",
      "  8.20450012e+02 8.19239990e+02 8.13669983e+02 8.09559998e+02]]\n"
     ]
    }
   ],
   "source": [
    "data1=np.transpose(data) #첫번째 행이 첫번째 열이됨\n",
    "print(data1)"
   ]
  },
  {
   "cell_type": "code",
   "execution_count": 12,
   "metadata": {},
   "outputs": [
    {
     "name": "stdout",
     "output_type": "stream",
     "text": [
      "(8, 5)\n",
      "(5, 8)\n"
     ]
    }
   ],
   "source": [
    "print(data.shape)\n",
    "print(data1.shape)"
   ]
  },
  {
   "cell_type": "code",
   "execution_count": 23,
   "metadata": {},
   "outputs": [
    {
     "name": "stdout",
     "output_type": "stream",
     "text": [
      "[[-0.294118   0.487437   0.180328  ... -0.53117   -0.0333333  0.       ]\n",
      " [-0.882353  -0.145729   0.0819672 ... -0.766866  -0.666667   1.       ]\n",
      " [-0.0588235  0.839196   0.0491803 ... -0.492741  -0.633333   0.       ]\n",
      " ...\n",
      " [-0.411765   0.21608    0.180328  ... -0.857387  -0.7        1.       ]\n",
      " [-0.882353   0.266332  -0.0163934 ... -0.768574  -0.133333   0.       ]\n",
      " [-0.882353  -0.0653266  0.147541  ... -0.797609  -0.933333   1.       ]]\n"
     ]
    }
   ],
   "source": [
    "xy=np.loadtxt('diabetes.csv',delimiter=',')\n",
    "print(xy)"
   ]
  },
  {
   "cell_type": "code",
   "execution_count": 25,
   "metadata": {},
   "outputs": [
    {
     "name": "stdout",
     "output_type": "stream",
     "text": [
      "[[-0.294118    0.487437    0.180328   ...  0.00149028 -0.53117\n",
      "  -0.0333333 ]\n",
      " [-0.882353   -0.145729    0.0819672  ... -0.207153   -0.766866\n",
      "  -0.666667  ]\n",
      " [-0.0588235   0.839196    0.0491803  ... -0.305514   -0.492741\n",
      "  -0.633333  ]\n",
      " ...\n",
      " [-0.411765    0.21608     0.180328   ... -0.219076   -0.857387\n",
      "  -0.7       ]\n",
      " [-0.882353    0.266332   -0.0163934  ... -0.102832   -0.768574\n",
      "  -0.133333  ]\n",
      " [-0.882353   -0.0653266   0.147541   ... -0.0938897  -0.797609\n",
      "  -0.933333  ]]\n"
     ]
    }
   ],
   "source": [
    "xdata=xy[:,0:-1]\n",
    "ydata=xy[:,[-1]]\n",
    "print(xdata)\n",
    "# print(ydata)"
   ]
  },
  {
   "cell_type": "code",
   "execution_count": null,
   "metadata": {},
   "outputs": [],
   "source": []
  },
  {
   "cell_type": "code",
   "execution_count": null,
   "metadata": {},
   "outputs": [],
   "source": []
  },
  {
   "cell_type": "code",
   "execution_count": null,
   "metadata": {},
   "outputs": [],
   "source": [
    "\n"
   ]
  },
  {
   "cell_type": "code",
   "execution_count": null,
   "metadata": {},
   "outputs": [],
   "source": []
  },
  {
   "cell_type": "code",
   "execution_count": null,
   "metadata": {},
   "outputs": [],
   "source": []
  },
  {
   "cell_type": "code",
   "execution_count": null,
   "metadata": {},
   "outputs": [],
   "source": []
  },
  {
   "cell_type": "code",
   "execution_count": null,
   "metadata": {},
   "outputs": [],
   "source": []
  },
  {
   "cell_type": "code",
   "execution_count": null,
   "metadata": {},
   "outputs": [],
   "source": []
  },
  {
   "cell_type": "code",
   "execution_count": null,
   "metadata": {},
   "outputs": [],
   "source": []
  },
  {
   "cell_type": "code",
   "execution_count": null,
   "metadata": {},
   "outputs": [],
   "source": []
  },
  {
   "cell_type": "code",
   "execution_count": null,
   "metadata": {},
   "outputs": [],
   "source": []
  },
  {
   "cell_type": "code",
   "execution_count": null,
   "metadata": {},
   "outputs": [],
   "source": []
  },
  {
   "cell_type": "code",
   "execution_count": null,
   "metadata": {},
   "outputs": [],
   "source": []
  }
 ],
 "metadata": {
  "kernelspec": {
   "display_name": "Python 3",
   "language": "python",
   "name": "python3"
  },
  "language_info": {
   "codemirror_mode": {
    "name": "ipython",
    "version": 3
   },
   "file_extension": ".py",
   "mimetype": "text/x-python",
   "name": "python",
   "nbconvert_exporter": "python",
   "pygments_lexer": "ipython3",
   "version": "3.6.5"
  }
 },
 "nbformat": 4,
 "nbformat_minor": 2
}
